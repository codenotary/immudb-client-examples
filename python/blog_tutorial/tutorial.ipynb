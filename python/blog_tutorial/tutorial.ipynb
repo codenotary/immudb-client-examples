{
 "cells": [
  {
   "cell_type": "markdown",
   "metadata": {},
   "source": [
    "# How do write data into immudb"
   ]
  },
  {
   "cell_type": "markdown",
   "metadata": {},
   "source": [
    "Snakes like pythons are one of the worst enemies of gophers, never the less gophers should know how to handle them. In this blog, you will learn how to transform relational data into a key-value schema that will fit in immudb with python. Once the records are written into immudb they are immutable, auditable and secure. First we have to import ImmudbClient from  [immudb-py](https://pypi.org/project/immudb-py/) and pandas for processing the example .csv data. We can connect to immudb now using the IP address of immudb. If you don't have immudb installed check out [immudb](https://github.com/codenotary/immudb) and start it up in just some seconds. "
   ]
  },
  {
   "cell_type": "code",
   "execution_count": 1,
   "metadata": {},
   "outputs": [],
   "source": [
    "from immudb.client import ImmudbClient\n",
    "import pandas as pd\n",
    "import json\n",
    "import os\n",
    "client = ImmudbClient()\n",
    "#ip and port of your immudb installation\n",
    "client = ImmudbClient(\"ip:port\")\n",
    "#standard user is immudb password immudb\n",
    "client.login(\"immudb\", \"yourpassword\");"
   ]
  },
  {
   "cell_type": "code",
   "execution_count": 2,
   "metadata": {},
   "outputs": [],
   "source": [
    "#if this works you are logged in\n",
    "client.listUsers()\n",
    "#create a database\n",
    "client.databaseCreate(b\"db1\");"
   ]
  },
  {
   "cell_type": "code",
   "execution_count": 3,
   "metadata": {
    "scrolled": true
   },
   "outputs": [],
   "source": [
    "#read the .csv files into DataFrames \n",
    "df1 = pd.read_csv(\"customers.csv\",sep=';')\n",
    "df2 = pd.read_csv(\"transactions.csv\",sep=';')"
   ]
  },
  {
   "cell_type": "markdown",
   "metadata": {},
   "source": [
    "## Immutability for application data\n",
    "\n",
    "Let's take a look at our example data. We have two tables with customer information and a transactionlog. Every customer has a unique accountid, a first and a last name, gender and date_of_birth. The transaction log is very minimalistic and contains the credit card information of the paying customer as well as the amount transfered in the transaction and the recipient. The tables can be matched by the accountid. Data like this can be easily managed in a RDBMS. We could easily get every transaction from a specific customer via SQL. Immudb, however, requires a key-value schema in order to reach the highest levels of performance.\n",
    "\n",
    " <img src=\"erdiagram.png\" width=\"900\" />\n",
    "\n",
    "The customer table has 18 rows and was stored in a data frame by the pandas package. The account ID (accountid) is used as the unique key for this table. We have to think about new keys because we can only store one value for every key into immudb.\n",
    "\n",
    "|   |  gender | first_name  |  last_name | date_of_birth  | accountid |\n",
    "|---|---|---|---|---|---|\n",
    "| 0  | male | Rufus | Faust | 27/10/1991  | 274566  | \n",
    "| 1  | male | David | Humphrey | 16/03/1999 | 506214  | \n",
    "| 2  | male | Phillipp | Lion | 25/10/1935  | 375731  |\n",
    "| ...| ... | ... | ...  | ...  | ...  | \n",
    "| 17  | female | Heike | Hoffmann | 05/05/1992  | 310829  |\n",
    "\n",
    "Assumed we want to put every information of the table in a key-value schema we can create pairs like this: \n",
    "\n",
    "| key  |  value |\n",
    "|---|---|\n",
    "| customer:accountid:gender | gender | \n",
    "| customer:accountid:first_name | first_name |  \n",
    "| customer:accountid:last_name | last_name| \n",
    "| customer:accountid:date_of_birth | date_of_birth  | \n",
    "\n",
    "Every information of an original table record is now split into key-value pairs and ready for immudb.\n",
    "Now we can replace the variables with the actual data and set the key-value pairs in immudb."
   ]
  },
  {
   "cell_type": "code",
   "execution_count": 4,
   "metadata": {},
   "outputs": [
    {
     "name": "stdout",
     "output_type": "stream",
     "text": [
      "GetResponse(value=b'male', timestamp=1606211775)\n"
     ]
    }
   ],
   "source": [
    "#example for | customer:accountid:gender | gender | \n",
    "client.set(b\"customer:274566:gender\", b\"male\");\n",
    "customer = client.get(b\"customer:274566:gender\");\n",
    "print(customer)"
   ]
  },
  {
   "cell_type": "markdown",
   "metadata": {},
   "source": [
    "The transactionlog table has 36 rows and the credit card information are spread into separate columns. The account ID (accountid) is matching with customers from the customer table. Also, the recipient (equals accountid or recipient) is part of the customers’ table.\n",
    "\n",
    "|   |  card | transid | issued  | bank  | accountid  | check  | expire  | recipient  | amount |  \n",
    "|---|---|---|---|---|---|---|---|---|---|\n",
    "|  0 | Visa  | 23032 | 1  | 51428  | 274566  | 1656  | Sep-21  | 484902  | 2,93 | \n",
    "|  1 | MasterCard  | 23033 | 1  | 51428  | 274566  | 1756  | Sep-21  | 484902  | 304,40  | \n",
    "|  2 | MasterCard  | 23034 | 2  | 51428  | 274566  | 6770  | Dec-19  | 381346  | 234,30 |  \n",
    "| ...| ... | ... | ... | ...  | ...  | ...  | ...  | ...  | ... |  \n",
    "|  35 | Visa  | 23032 | 1  | 51428  | 310829  | 3346  | Sep-21  | 484902  | 19,00 | \n",
    "\n",
    "There are multiple options to store data like this in immudb depending on which data needs to be immutable. For example, you could create a new key containing the customer accountid, the transactionlog accountid, the recipient, and the transaction ID: accountid.customer:accountid.transactiolog:recipient:transid:amount and the amount as value.\n",
    "\n",
    "\n",
    "|key (accountid.customer:accountid.transactionlog:recipient:transid:amount) |value (amount)                  |\n",
    "|-------------------------------|-----------------------------|\n",
    "|274566:274566:484902:23032:amount            |2.93        |\n",
    "|274566:274566:484902:23033:amount           |304.40        |\n",
    "\n",
    "## How to store multiple values with just one key\n",
    "\n",
    "Now let's try to save every transaction from a specific customer. Every key can just serve one value however, the value doesn’t have to be a single word. It is possible to store json objects as value. First, we create key with informations that are useful for indexing, sorting, or are needed for creating subsets. This will be helpful if you are planning to use secondary indexes later. \n",
    "\n",
    "|   |  key |     creditcardnr |   amount | recipient |\n",
    "|---|---|---|---|---|\n",
    "|0  |   274566:male:27.10.1991 | 1514282745661656  |   2,93  |   484902|\n",
    "|1  |   274566:male:27.10.1991 | 1514282745661756  | 304,40  |   484902|\n",
    "|2  |   274566:male:27.10.1991 | 2514282745666770  | 234,30  |   381346|\n",
    "|3  |   506214:male:16.03.1999 | 2514285062142358  | 177,50  |   381346|\n",
    "\n",
    "Now we have to convert and add the values for every unique key into a json object. The chart below is showing how the items will be stored in immudb. Every key produces a unique hash, which means you can set the same key again and update the value connected to it. The history function keeps track of those changes.  \n",
    " <img src=\"keyvaluediagram.png\" width=\"900\" />"
   ]
  },
  {
   "cell_type": "markdown",
   "metadata": {},
   "source": [
    "## Let's do it\n",
    "\n",
    "The tables now have to be merged by using the account ID (accountid) of the customer. For simplicity, we also combine columns to a new single value column and drop unnecessary data. These operations can be easily done in SQL or as shown below by using pandas."
   ]
  },
  {
   "cell_type": "code",
   "execution_count": 5,
   "metadata": {},
   "outputs": [],
   "source": [
    "#merge some rows to get a clean creditcardnumber\n",
    "df2['creditcardnr'] =   df2['issued'].astype(str) +''+ \\\n",
    "                        df2['bank'].astype(str) + '' + \\\n",
    "                        df2['accountid'].astype(str) + ''+ \\\n",
    "                        df2['check'].map(str)\n",
    "#match the dataframes by accountid\n",
    "df_final = df1.merge(df2, left_on = 'accountid', right_on = 'accountid')\n",
    "#build a key that is fit for purpose\n",
    "df_final['key'] =       df_final['accountid'].astype(str) +':'+ \\\n",
    "                        df_final['gender'].astype(str) + ':' + \\\n",
    "                        df_final['date_of_birth'].map(str)\n",
    "#drop unecessary data\n",
    "df_final.drop(columns=['first_name', 'last_name','card','transid','issued','bank','accountid','gender','date_of_birth'])\n",
    "df_final = df_final.reindex(columns=['key','creditcardnr','amount','recipient'])"
   ]
  },
  {
   "cell_type": "markdown",
   "metadata": {},
   "source": [
    "Now we have a resulting table \"df_final\" that has multiple rows with some identical keys but various values. That's why we iterate over the unique subset of keys and add the values to a json object. We then set the key and the json object in immudb. Having done so we can print the value by requesting the keys in immudb."
   ]
  },
  {
   "cell_type": "code",
   "execution_count": 7,
   "metadata": {},
   "outputs": [
    {
     "name": "stdout",
     "output_type": "stream",
     "text": [
      "GetResponse(value=b'{\"columns\":[\"creditcardnr\",\"amount\",\"recipient\"],\"index\":[0,1,2],\"data\":[[\"1514282745661656\",\"2,93$\",484902],[\"1514282745661756\",\"304,40$\",484902],[\"2514282745666770\",\"234,30$\",381346]]}', timestamp=1606211829)\n",
      "GetResponse(value=b'{\"columns\":[\"creditcardnr\",\"amount\",\"recipient\"],\"index\":[3,4],\"data\":[[\"2514285062142358\",\"177,50$\",381346],[\"2514285062148324\",\"4,30$\",381346]]}', timestamp=1606211829)\n",
      "GetResponse(value=b'{\"columns\":[\"creditcardnr\",\"amount\",\"recipient\"],\"index\":[5],\"data\":[[\"2514283757312495\",\"6599,99$\",381346]]}', timestamp=1606211829)\n",
      "GetResponse(value=b'{\"columns\":[\"creditcardnr\",\"amount\",\"recipient\"],\"index\":[6],\"data\":[[\"1514282380109467\",\"4,60$\",484902]]}', timestamp=1606211829)\n",
      "GetResponse(value=b'{\"columns\":[\"creditcardnr\",\"amount\",\"recipient\"],\"index\":[7],\"data\":[[\"1514281951803212\",\"12,30$\",484902]]}', timestamp=1606211829)\n",
      "GetResponse(value=b'{\"columns\":[\"creditcardnr\",\"amount\",\"recipient\"],\"index\":[8,9],\"data\":[[\"1514285703267395\",\"19,70$\",484902],[\"1514285703263782\",\"21,50$\",484902]]}', timestamp=1606211829)\n",
      "GetResponse(value=b'{\"columns\":[\"creditcardnr\",\"amount\",\"recipient\"],\"index\":[10],\"data\":[[\"1514281001421483\",\"75,90$\",484902]]}', timestamp=1606211829)\n",
      "GetResponse(value=b'{\"columns\":[\"creditcardnr\",\"amount\",\"recipient\"],\"index\":[11],\"data\":[[\"1514289592827327\",\"35,00$\",484902]]}', timestamp=1606211829)\n",
      "GetResponse(value=b'{\"columns\":[\"creditcardnr\",\"amount\",\"recipient\"],\"index\":[12],\"data\":[[\"1514287210885249\",\"16,50$\",484902]]}', timestamp=1606211829)\n",
      "GetResponse(value=b'{\"columns\":[\"creditcardnr\",\"amount\",\"recipient\"],\"index\":[13],\"data\":[[\"1514283458405123\",\"25,60$\",484902]]}', timestamp=1606211829)\n",
      "GetResponse(value=b'{\"columns\":[\"creditcardnr\",\"amount\",\"recipient\"],\"index\":[14],\"data\":[[\"1514288089742948\",\"30,50$\",484902]]}', timestamp=1606211829)\n",
      "GetResponse(value=b'{\"columns\":[\"creditcardnr\",\"amount\",\"recipient\"],\"index\":[15,16,17],\"data\":[[\"1514287604713566\",\"39,99$\",484902],[\"1514287604712258\",\"19,00$\",484902],[\"1514287604713121\",\"2,93$\",484902]]}', timestamp=1606211829)\n",
      "GetResponse(value=b'{\"columns\":[\"creditcardnr\",\"amount\",\"recipient\"],\"index\":[18,19],\"data\":[[\"1514287032617983\",\"304,40$\",484902],[\"2514287032612835\",\"234,30$\",381346]]}', timestamp=1606211829)\n",
      "GetResponse(value=b'{\"columns\":[\"creditcardnr\",\"amount\",\"recipient\"],\"index\":[20,21],\"data\":[[\"2514289734593245\",\"177,50$\",381346],[\"2514289734591324\",\"4,30$\",381346]]}', timestamp=1606211829)\n",
      "GetResponse(value=b'{\"columns\":[\"creditcardnr\",\"amount\",\"recipient\"],\"index\":[22,23,24],\"data\":[[\"2514282317293404\",\"6599,99$\",381346],[\"2514282317298532\",\"99,00$\",381346],[\"1514282317292965\",\"4,60$\",484902]]}', timestamp=1606211829)\n",
      "GetResponse(value=b'{\"columns\":[\"creditcardnr\",\"amount\",\"recipient\"],\"index\":[25,26],\"data\":[[\"1514287639143576\",\"12,30$\",484902],[\"1514287639141796\",\"19,70$\",484902]]}', timestamp=1606211829)\n",
      "GetResponse(value=b'{\"columns\":[\"creditcardnr\",\"amount\",\"recipient\"],\"index\":[27,28],\"data\":[[\"1514289043051356\",\"21,50$\",484902],[\"1514289043053226\",\"75,90$\",484902]]}', timestamp=1606211829)\n",
      "GetResponse(value=b'{\"columns\":[\"creditcardnr\",\"amount\",\"recipient\"],\"index\":[29,30,31,32,33,34],\"data\":[[\"1514283108291006\",\"35,00$\",484902],[\"1514283108293009\",\"16,50$\",484902],[\"1514283108291236\",\"25,60$\",484902],[\"1514283108291353\",\"30,50$\",484902],[\"1514283108292734\",\"39,99$\",484902],[\"1514283108293346\",\"19,00$\",484902]]}', timestamp=1606211829)\n"
     ]
    }
   ],
   "source": [
    "uniquekeylist = df_final['key'].unique()\n",
    "\n",
    "for key in uniquekeylist:\n",
    "    \n",
    "    #convert values of creditcardnr, amount and recipient to json\n",
    "    df_json=df_final.loc[df_final['key']==key,['creditcardnr','amount','recipient']]\n",
    "    result = df_json.to_json(orient=\"split\")\n",
    "    parsed = json.loads(result)\n",
    "    #insert key, values into immudb\n",
    "    client.set(bytes(key, encoding= 'utf-8'), bytes(result, encoding= 'utf-8'));\n",
    "    request = client.get(bytes(key, encoding= 'utf-8'));\n",
    "    print(request)\n",
    "    \n",
    "#gophers always logout     \n",
    "client.logout();"
   ]
  },
  {
   "cell_type": "markdown",
   "metadata": {},
   "source": [
    "# Summary\n",
    "Python is not without a reason very popular in data science. It is easy-to-use and has a great library support. With [immudb-py](https://github.com/codenotary/immudb-py) you are able to use [immudb](https://github.com/codenotary/immudb) with all its unparalleled benefits in your python environment without a hassle. Transforming data into a key-value schema using python and storing it in immudb is straight forward and fun. It is also very comprehensible and that's why a perfect tool for a proof of concept. Stay tuned for future blogs and press the star button on [github](https://github.com/codenotary/immudb) to hear about the latest features."
   ]
  }
 ],
 "metadata": {
  "kernelspec": {
   "display_name": "Python 3",
   "language": "python",
   "name": "python3"
  },
  "language_info": {
   "codemirror_mode": {
    "name": "ipython",
    "version": 3
   },
   "file_extension": ".py",
   "mimetype": "text/x-python",
   "name": "python",
   "nbconvert_exporter": "python",
   "pygments_lexer": "ipython3",
   "version": "3.8.3"
  }
 },
 "nbformat": 4,
 "nbformat_minor": 4
}
